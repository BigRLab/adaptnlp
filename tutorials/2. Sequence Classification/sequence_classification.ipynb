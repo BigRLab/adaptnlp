{
 "cells": [
  {
   "cell_type": "code",
   "execution_count": 1,
   "metadata": {},
   "outputs": [],
   "source": [
    "from adaptnlp import EasySequenceClassifier"
   ]
  },
  {
   "cell_type": "markdown",
   "metadata": {},
   "source": [
    "# Examples of Text Classifier"
   ]
  },
  {
   "cell_type": "code",
   "execution_count": 2,
   "metadata": {},
   "outputs": [],
   "source": [
    "# Set example text and instantiate tagger instance\n",
    "example_text = '''Novetta Solutions is the best. Albert Einstein used to be employed at Novetta Solutions. \n",
    "The Wright brothers loved to visit the JBF headquarters, and they would have a chat with Albert.'''\n",
    "classifier = EasySequenceClassifier()"
   ]
  },
  {
   "cell_type": "code",
   "execution_count": 3,
   "metadata": {},
   "outputs": [
    {
     "name": "stdout",
     "output_type": "stream",
     "text": [
      "2020-02-07 07:57:24,788 loading file /home/ubuntu/.flair/models/imdb-v0.4.pt\n",
      "Label output:\n",
      "\n",
      "[POSITIVE (0.9999912977218628)]\n"
     ]
    }
   ],
   "source": [
    "#Predict\n",
    "sentences = classifier.tag_text(example_text, model_name_or_path=\"en-sentiment\")\n",
    "print(\"Label output:\\n\")\n",
    "for sentence in sentences:\n",
    "    print(sentence.labels)"
   ]
  },
  {
   "cell_type": "code",
   "execution_count": 4,
   "metadata": {},
   "outputs": [
    {
     "name": "stdout",
     "output_type": "stream",
     "text": [
      "[NEGATIVE (0.8431428670883179)]\n"
     ]
    },
    {
     "data": {
      "text/plain": [
       "[NEGATIVE (0.9517049193382263)]"
      ]
     },
     "execution_count": 4,
     "metadata": {},
     "output_type": "execute_result"
    }
   ],
   "source": [
    "# Some interesting examples\n",
    "sentences = classifier.tag_text(\"This is the worst movie ever.  I am appalled\")\n",
    "print(sentences[0].labels)\n",
    "sentences = classifier.tag_text(\"This is the worst, the movie should have the highest ratings.  It really should have broken the box office record, it was amazing.\")\n",
    "sentences[0].labels\n"
   ]
  },
  {
   "cell_type": "code",
   "execution_count": null,
   "metadata": {},
   "outputs": [],
   "source": []
  }
 ],
 "metadata": {
  "kernelspec": {
   "display_name": "Python 3",
   "language": "python",
   "name": "python3"
  },
  "language_info": {
   "codemirror_mode": {
    "name": "ipython",
    "version": 3
   },
   "file_extension": ".py",
   "mimetype": "text/x-python",
   "name": "python",
   "nbconvert_exporter": "python",
   "pygments_lexer": "ipython3",
   "version": "3.6.8"
  }
 },
 "nbformat": 4,
 "nbformat_minor": 4
}
