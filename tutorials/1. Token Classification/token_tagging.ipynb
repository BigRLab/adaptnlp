{
 "cells": [
  {
   "cell_type": "code",
   "execution_count": 1,
   "metadata": {},
   "outputs": [],
   "source": [
    "from adaptnlp import EasyTokenTagger"
   ]
  },
  {
   "cell_type": "markdown",
   "metadata": {},
   "source": [
    "# Examples of using EasyTokenTagger"
   ]
  },
  {
   "cell_type": "code",
   "execution_count": 2,
   "metadata": {},
   "outputs": [],
   "source": [
    "# Set example text and instantiate tagger instance\n",
    "example_text = '''Novetta Solutions is the best. Albert Einstein used to be employed at Novetta Solutions. \n",
    "The Wright brothers loved to visit the JBF headquarters, and they would have a chat with Albert.'''\n",
    "tagger = EasyTokenTagger()"
   ]
  },
  {
   "cell_type": "markdown",
   "metadata": {},
   "source": [
    "## Named Entity Recognition"
   ]
  },
  {
   "cell_type": "code",
   "execution_count": 3,
   "metadata": {},
   "outputs": [
    {
     "name": "stdout",
     "output_type": "stream",
     "text": [
      "2019-12-17 04:23:20,930 loading file /home/andrew/.flair/models/en-ner-ontonotes-v0.4.pt\n"
     ]
    }
   ],
   "source": [
    "# Tag the string (will dynamically download and load required models when `tag_***` methods are called)\n",
    "sentences = tagger.tag_text(text = example_text, model_name_or_path = \"ner-ontonotes\")"
   ]
  },
  {
   "cell_type": "code",
   "execution_count": 4,
   "metadata": {},
   "outputs": [
    {
     "name": "stdout",
     "output_type": "stream",
     "text": [
      "List string outputs of tags:\n",
      "\n",
      "Novetta <B-ORG> Solutions <E-ORG> is the best. Albert <B-PERSON> Einstein <E-PERSON> used to be employed at Novetta <B-ORG> Solutions. <E-ORG> \n",
      "The Wright <S-PERSON> brothers loved to visit the JBF <S-ORG> headquarters, and they would have a chat with Albert. <S-PERSON>\n"
     ]
    }
   ],
   "source": [
    "# See Results\n",
    "print(\"List string outputs of tags:\\n\")\n",
    "for sen in sentences:\n",
    "    print(sen.to_tagged_string())"
   ]
  },
  {
   "cell_type": "code",
   "execution_count": 5,
   "metadata": {},
   "outputs": [
    {
     "name": "stdout",
     "output_type": "stream",
     "text": [
      "List entities tagged:\n",
      "\n",
      "ORG-span [1,2]: \"Novetta Solutions\"\n",
      "PERSON-span [6,7]: \"Albert Einstein\"\n",
      "ORG-span [13,14]: \"Novetta Solutions.\"\n",
      "PERSON-span [16]: \"Wright\"\n",
      "ORG-span [22]: \"JBF\"\n",
      "PERSON-span [31]: \"Albert.\"\n"
     ]
    }
   ],
   "source": [
    "print(\"List entities tagged:\\n\")\n",
    "for sen in sentences:\n",
    "    for entity in sen.get_spans(\"ner\"):\n",
    "        print(entity)"
   ]
  },
  {
   "cell_type": "code",
   "execution_count": 6,
   "metadata": {},
   "outputs": [
    {
     "name": "stdout",
     "output_type": "stream",
     "text": [
      "Get json of tagged information:\n",
      "\n",
      "{'text': 'Novetta Solutions is the best. Albert Einstein used to be employed at Novetta Solutions. \\nThe Wright brothers loved to visit the JBF headquarters, and they would have a chat with Albert.', 'labels': [], 'entities': [{'text': 'Novetta Solutions', 'start_pos': 0, 'end_pos': 17, 'type': 'ORG', 'confidence': 0.9724629521369934}, {'text': 'Albert Einstein', 'start_pos': 31, 'end_pos': 46, 'type': 'PERSON', 'confidence': 0.9977981746196747}, {'text': 'Novetta Solutions.', 'start_pos': 70, 'end_pos': 88, 'type': 'ORG', 'confidence': 0.9176564514636993}, {'text': 'Wright', 'start_pos': 94, 'end_pos': 100, 'type': 'PERSON', 'confidence': 0.9994158744812012}, {'text': 'JBF', 'start_pos': 129, 'end_pos': 132, 'type': 'ORG', 'confidence': 0.9093995690345764}, {'text': 'Albert.', 'start_pos': 179, 'end_pos': 186, 'type': 'PERSON', 'confidence': 0.6420339345932007}]} \n",
      "\n"
     ]
    }
   ],
   "source": [
    "print(\"Get json of tagged information:\\n\")\n",
    "for sen in sentences:\n",
    "    print(sen.to_dict(tag_type=\"ner\"),\"\\n\")"
   ]
  },
  {
   "cell_type": "markdown",
   "metadata": {},
   "source": [
    "## Parts of Speech"
   ]
  },
  {
   "cell_type": "code",
   "execution_count": 7,
   "metadata": {},
   "outputs": [
    {
     "name": "stdout",
     "output_type": "stream",
     "text": [
      "2019-12-17 04:23:25,198 loading file /home/andrew/.flair/models/en-pos-ontonotes-v0.4.pt\n"
     ]
    }
   ],
   "source": [
    "sentences = tagger.tag_text(text = example_text, model_name_or_path = \"pos\")"
   ]
  },
  {
   "cell_type": "code",
   "execution_count": 8,
   "metadata": {},
   "outputs": [
    {
     "name": "stdout",
     "output_type": "stream",
     "text": [
      "List string outputs of tags:\n",
      "\n",
      "Novetta <PROPN> Solutions <PROPN> is <VERB> the <DET> best. <ADJ> Albert <PROPN> Einstein <PROPN> used <VERB> to <PART> be <VERB> employed <VERB> at <ADP> Novetta <PROPN> Solutions. <PROPN> \n",
      "The <DET> Wright <PROPN> brothers <NOUN> loved <VERB> to <PART> visit <VERB> the <DET> JBF <PROPN> headquarters, <NOUN> and <CCONJ> they <PRON> would <AUX> have <VERB> a <DET> chat <NOUN> with <ADP> Albert. <PROPN>\n"
     ]
    }
   ],
   "source": [
    "# See Results\n",
    "print(\"List string outputs of tags:\\n\")\n",
    "for sen in sentences:\n",
    "    print(sen.to_tagged_string())"
   ]
  },
  {
   "cell_type": "code",
   "execution_count": 9,
   "metadata": {},
   "outputs": [
    {
     "name": "stdout",
     "output_type": "stream",
     "text": [
      "List text/entities tagged:\n",
      "\n",
      "PROPN-span [1]: \"Novetta\"\n",
      "PROPN-span [2]: \"Solutions\"\n",
      "VERB-span [3]: \"is\"\n",
      "DET-span [4]: \"the\"\n",
      "ADJ-span [5]: \"best.\"\n",
      "PROPN-span [6]: \"Albert\"\n",
      "PROPN-span [7]: \"Einstein\"\n",
      "VERB-span [8]: \"used\"\n",
      "PART-span [9]: \"to\"\n",
      "VERB-span [10]: \"be\"\n",
      "VERB-span [11]: \"employed\"\n",
      "ADP-span [12]: \"at\"\n",
      "PROPN-span [13]: \"Novetta\"\n",
      "PROPN-span [14]: \"Solutions.\"\n",
      "DET-span [15]: \"\n",
      "The\"\n",
      "PROPN-span [16]: \"Wright\"\n",
      "NOUN-span [17]: \"brothers\"\n",
      "VERB-span [18]: \"loved\"\n",
      "PART-span [19]: \"to\"\n",
      "VERB-span [20]: \"visit\"\n",
      "DET-span [21]: \"the\"\n",
      "PROPN-span [22]: \"JBF\"\n",
      "NOUN-span [23]: \"headquarters,\"\n",
      "CCONJ-span [24]: \"and\"\n",
      "PRON-span [25]: \"they\"\n",
      "AUX-span [26]: \"would\"\n",
      "VERB-span [27]: \"have\"\n",
      "DET-span [28]: \"a\"\n",
      "NOUN-span [29]: \"chat\"\n",
      "ADP-span [30]: \"with\"\n",
      "PROPN-span [31]: \"Albert.\"\n"
     ]
    }
   ],
   "source": [
    "print(\"List text/entities tagged:\\n\")\n",
    "for sen in sentences:\n",
    "    for entity in sen.get_spans(\"pos\"):\n",
    "        print(entity)"
   ]
  },
  {
   "cell_type": "code",
   "execution_count": 10,
   "metadata": {},
   "outputs": [
    {
     "name": "stdout",
     "output_type": "stream",
     "text": [
      "Get json of tagged information:\n",
      "\n",
      "{'text': 'Novetta Solutions is the best. Albert Einstein used to be employed at Novetta Solutions. \\nThe Wright brothers loved to visit the JBF headquarters, and they would have a chat with Albert.', 'labels': [], 'entities': [{'text': 'Novetta', 'start_pos': 0, 'end_pos': 7, 'type': 'PROPN', 'confidence': 0.9914647936820984}, {'text': 'Solutions', 'start_pos': 8, 'end_pos': 17, 'type': 'PROPN', 'confidence': 0.9967130422592163}, {'text': 'is', 'start_pos': 18, 'end_pos': 20, 'type': 'VERB', 'confidence': 0.9999997615814209}, {'text': 'the', 'start_pos': 21, 'end_pos': 24, 'type': 'DET', 'confidence': 0.9999990463256836}, {'text': 'best.', 'start_pos': 25, 'end_pos': 30, 'type': 'ADJ', 'confidence': 0.6421029567718506}, {'text': 'Albert', 'start_pos': 31, 'end_pos': 37, 'type': 'PROPN', 'confidence': 0.9979984164237976}, {'text': 'Einstein', 'start_pos': 38, 'end_pos': 46, 'type': 'PROPN', 'confidence': 0.9998689889907837}, {'text': 'used', 'start_pos': 47, 'end_pos': 51, 'type': 'VERB', 'confidence': 0.9999594688415527}, {'text': 'to', 'start_pos': 52, 'end_pos': 54, 'type': 'PART', 'confidence': 0.7327266335487366}, {'text': 'be', 'start_pos': 55, 'end_pos': 57, 'type': 'VERB', 'confidence': 1.0}, {'text': 'employed', 'start_pos': 58, 'end_pos': 66, 'type': 'VERB', 'confidence': 0.9922007918357849}, {'text': 'at', 'start_pos': 67, 'end_pos': 69, 'type': 'ADP', 'confidence': 0.9999954700469971}, {'text': 'Novetta', 'start_pos': 70, 'end_pos': 77, 'type': 'PROPN', 'confidence': 0.9988433122634888}, {'text': 'Solutions.', 'start_pos': 78, 'end_pos': 88, 'type': 'PROPN', 'confidence': 0.9993410706520081}, {'text': '\\nThe', 'start_pos': 89, 'end_pos': 93, 'type': 'DET', 'confidence': 0.9910361766815186}, {'text': 'Wright', 'start_pos': 94, 'end_pos': 100, 'type': 'PROPN', 'confidence': 0.9858036041259766}, {'text': 'brothers', 'start_pos': 101, 'end_pos': 109, 'type': 'NOUN', 'confidence': 0.9998202919960022}, {'text': 'loved', 'start_pos': 110, 'end_pos': 115, 'type': 'VERB', 'confidence': 0.9997920393943787}, {'text': 'to', 'start_pos': 116, 'end_pos': 118, 'type': 'PART', 'confidence': 0.8940252065658569}, {'text': 'visit', 'start_pos': 119, 'end_pos': 124, 'type': 'VERB', 'confidence': 0.9999951124191284}, {'text': 'the', 'start_pos': 125, 'end_pos': 128, 'type': 'DET', 'confidence': 0.9999920129776001}, {'text': 'JBF', 'start_pos': 129, 'end_pos': 132, 'type': 'PROPN', 'confidence': 0.9982422590255737}, {'text': 'headquarters,', 'start_pos': 133, 'end_pos': 146, 'type': 'NOUN', 'confidence': 0.9966071844100952}, {'text': 'and', 'start_pos': 147, 'end_pos': 150, 'type': 'CCONJ', 'confidence': 0.9999995231628418}, {'text': 'they', 'start_pos': 151, 'end_pos': 155, 'type': 'PRON', 'confidence': 0.9999980926513672}, {'text': 'would', 'start_pos': 156, 'end_pos': 161, 'type': 'AUX', 'confidence': 0.9999994039535522}, {'text': 'have', 'start_pos': 162, 'end_pos': 166, 'type': 'VERB', 'confidence': 0.9999974966049194}, {'text': 'a', 'start_pos': 167, 'end_pos': 168, 'type': 'DET', 'confidence': 0.9998818635940552}, {'text': 'chat', 'start_pos': 169, 'end_pos': 173, 'type': 'NOUN', 'confidence': 0.9973364472389221}, {'text': 'with', 'start_pos': 174, 'end_pos': 178, 'type': 'ADP', 'confidence': 0.9999713897705078}, {'text': 'Albert.', 'start_pos': 179, 'end_pos': 186, 'type': 'PROPN', 'confidence': 0.9913256764411926}]} \n",
      "\n"
     ]
    }
   ],
   "source": [
    "print(\"Get json of tagged information:\\n\")\n",
    "for sen in sentences:\n",
    "    print(sen.to_dict(tag_type=\"pos\"),\"\\n\")"
   ]
  },
  {
   "cell_type": "markdown",
   "metadata": {},
   "source": [
    "## Chunk"
   ]
  },
  {
   "cell_type": "code",
   "execution_count": 11,
   "metadata": {},
   "outputs": [
    {
     "name": "stdout",
     "output_type": "stream",
     "text": [
      "2019-12-17 04:23:26,424 loading file /home/andrew/.flair/models/en-chunk-conll2000-v0.4.pt\n"
     ]
    }
   ],
   "source": [
    "sentences = tagger.tag_text(text = example_text, model_name_or_path = \"chunk\")"
   ]
  },
  {
   "cell_type": "code",
   "execution_count": 12,
   "metadata": {},
   "outputs": [
    {
     "name": "stdout",
     "output_type": "stream",
     "text": [
      "List string outputs of tags:\n",
      "\n",
      "Novetta <B-NP> Solutions <E-NP> is <S-VP> the <B-NP> best. <I-NP> Albert <I-NP> Einstein <E-NP> used <B-VP> to <I-VP> be <I-VP> employed <E-VP> at <S-PP> Novetta <B-NP> Solutions. <E-NP> \n",
      "The <B-NP> Wright <I-NP> brothers <E-NP> loved <B-VP> to <I-VP> visit <E-VP> the <B-NP> JBF <I-NP> headquarters, <E-NP> and they <S-NP> would <B-VP> have <E-VP> a <B-NP> chat <E-NP> with <S-PP> Albert. <S-NP>\n"
     ]
    }
   ],
   "source": [
    "# See Results\n",
    "print(\"List string outputs of tags:\\n\")\n",
    "for sen in sentences:\n",
    "    print(sen.to_tagged_string())"
   ]
  },
  {
   "cell_type": "code",
   "execution_count": 13,
   "metadata": {},
   "outputs": [
    {
     "name": "stdout",
     "output_type": "stream",
     "text": [
      "List text/entities tagged:\n",
      "\n",
      "NP-span [1,2]: \"Novetta Solutions\"\n",
      "VP-span [3]: \"is\"\n",
      "NP-span [4,5,6,7]: \"the best. Albert Einstein\"\n",
      "VP-span [8,9,10,11]: \"used to be employed\"\n",
      "PP-span [12]: \"at\"\n",
      "NP-span [13,14]: \"Novetta Solutions.\"\n",
      "NP-span [15,16,17]: \"\n",
      "The Wright brothers\"\n",
      "VP-span [18,19,20]: \"loved to visit\"\n",
      "NP-span [21,22,23]: \"the JBF headquarters,\"\n",
      "NP-span [25]: \"they\"\n",
      "VP-span [26,27]: \"would have\"\n",
      "NP-span [28,29]: \"a chat\"\n",
      "PP-span [30]: \"with\"\n",
      "NP-span [31]: \"Albert.\"\n"
     ]
    }
   ],
   "source": [
    "print(\"List text/entities tagged:\\n\")\n",
    "for sen in sentences:\n",
    "    for entity in sen.get_spans(\"np\"):\n",
    "        print(entity)"
   ]
  },
  {
   "cell_type": "markdown",
   "metadata": {},
   "source": [
    "## Frame"
   ]
  },
  {
   "cell_type": "code",
   "execution_count": 14,
   "metadata": {},
   "outputs": [
    {
     "name": "stdout",
     "output_type": "stream",
     "text": [
      "2019-12-17 04:23:26,847 loading file /home/andrew/.flair/models/en-frame-ontonotes-v0.4.pt\n"
     ]
    }
   ],
   "source": [
    "sentences = tagger.tag_text(text = example_text, model_name_or_path = \"frame\")"
   ]
  },
  {
   "cell_type": "code",
   "execution_count": 15,
   "metadata": {},
   "outputs": [
    {
     "name": "stdout",
     "output_type": "stream",
     "text": [
      "List string outputs of tags:\n",
      "\n",
      "Novetta <_> Solutions <_> is <be.01> the <_> best. <_> Albert <_> Einstein <_> used <use.03> to <_> be <be.03> employed <employ.01> at <_> Novetta <_> Solutions. <_> \n",
      "The <_> Wright <_> brothers <_> loved <love.02> to <_> visit <visit.01> the <_> JBF <_> headquarters, <_> and <_> they <_> would <_> have <have.03> a <_> chat <chat.01> with <_> Albert. <_>\n"
     ]
    }
   ],
   "source": [
    "# See Results\n",
    "print(\"List string outputs of tags:\\n\")\n",
    "for sen in sentences:\n",
    "    print(sen.to_tagged_string())"
   ]
  },
  {
   "cell_type": "markdown",
   "metadata": {},
   "source": [
    "## Fast Sequence Labeling\n",
    "#### This is for those that want to run faster sequence labeling with similar accuracy results.  Everything is done the same as above, just load in the FastEasySequenceTagger tagger instead of the EasySequenceTagger"
   ]
  },
  {
   "cell_type": "markdown",
   "metadata": {},
   "source": [
    "### NER"
   ]
  },
  {
   "cell_type": "code",
   "execution_count": 16,
   "metadata": {},
   "outputs": [
    {
     "name": "stdout",
     "output_type": "stream",
     "text": [
      "2019-12-17 04:23:27,367 loading file /home/andrew/.flair/models/en-ner-ontonotes-fast-v0.4.pt\n"
     ]
    }
   ],
   "source": [
    "# Tag the string (will dynamically download and load required models when `tag_***` methods are called)\n",
    "# sentences = tagger.tag_ner_ontonotes(example_text) ***use this if you want more tag labels for ner***\n",
    "sentences = tagger.tag_text(text = example_text, model_name_or_path = \"ner-ontonotes-fast\")"
   ]
  },
  {
   "cell_type": "code",
   "execution_count": 17,
   "metadata": {},
   "outputs": [
    {
     "name": "stdout",
     "output_type": "stream",
     "text": [
      "List entities tagged:\n",
      "\n",
      "ORG-span [1,2]: \"Novetta Solutions\"\n",
      "PERSON-span [6,7]: \"Albert Einstein\"\n",
      "ORG-span [13,14]: \"Novetta Solutions.\"\n",
      "PERSON-span [16]: \"Wright\"\n",
      "ORG-span [22]: \"JBF\"\n"
     ]
    }
   ],
   "source": [
    "print(\"List entities tagged:\\n\")\n",
    "for sen in sentences:\n",
    "    for entity in sen.get_spans(\"ner\"):\n",
    "        print(entity)"
   ]
  },
  {
   "cell_type": "markdown",
   "metadata": {},
   "source": [
    "## Tag Tokens with All Loaded Models At Once"
   ]
  },
  {
   "cell_type": "code",
   "execution_count": 18,
   "metadata": {},
   "outputs": [],
   "source": [
    "sentences = tagger.tag_all(example_text)"
   ]
  },
  {
   "cell_type": "code",
   "execution_count": 19,
   "metadata": {},
   "outputs": [
    {
     "name": "stdout",
     "output_type": "stream",
     "text": [
      "List entities tagged:\n",
      "\n",
      "ORG-span [1,2]: \"Novetta Solutions\"\n",
      "PERSON-span [6,7]: \"Albert Einstein\"\n",
      "ORG-span [13,14]: \"Novetta Solutions.\"\n",
      "PERSON-span [16]: \"Wright\"\n",
      "ORG-span [22]: \"JBF\"\n"
     ]
    }
   ],
   "source": [
    "print(\"List entities tagged:\\n\")\n",
    "for sen in sentences:\n",
    "    for entity in sen.get_spans(\"ner\"):\n",
    "        print(entity)"
   ]
  },
  {
   "cell_type": "code",
   "execution_count": 20,
   "metadata": {},
   "outputs": [
    {
     "name": "stdout",
     "output_type": "stream",
     "text": [
      "List entities tagged:\n",
      "\n",
      "PROPN-span [1]: \"Novetta\"\n",
      "PROPN-span [2]: \"Solutions\"\n",
      "VERB-span [3]: \"is\"\n",
      "DET-span [4]: \"the\"\n",
      "ADJ-span [5]: \"best.\"\n",
      "PROPN-span [6]: \"Albert\"\n",
      "PROPN-span [7]: \"Einstein\"\n",
      "VERB-span [8]: \"used\"\n",
      "PART-span [9]: \"to\"\n",
      "VERB-span [10]: \"be\"\n",
      "VERB-span [11]: \"employed\"\n",
      "ADP-span [12]: \"at\"\n",
      "PROPN-span [13]: \"Novetta\"\n",
      "PROPN-span [14]: \"Solutions.\"\n",
      "DET-span [15]: \"\n",
      "The\"\n",
      "PROPN-span [16]: \"Wright\"\n",
      "NOUN-span [17]: \"brothers\"\n",
      "VERB-span [18]: \"loved\"\n",
      "PART-span [19]: \"to\"\n",
      "VERB-span [20]: \"visit\"\n",
      "DET-span [21]: \"the\"\n",
      "PROPN-span [22]: \"JBF\"\n",
      "NOUN-span [23]: \"headquarters,\"\n",
      "CCONJ-span [24]: \"and\"\n",
      "PRON-span [25]: \"they\"\n",
      "AUX-span [26]: \"would\"\n",
      "VERB-span [27]: \"have\"\n",
      "DET-span [28]: \"a\"\n",
      "NOUN-span [29]: \"chat\"\n",
      "ADP-span [30]: \"with\"\n",
      "PROPN-span [31]: \"Albert.\"\n"
     ]
    }
   ],
   "source": [
    "print(\"List entities tagged:\\n\")\n",
    "for sen in sentences:\n",
    "    for entity in sen.get_spans(\"pos\"):\n",
    "        print(entity)"
   ]
  },
  {
   "cell_type": "code",
   "execution_count": 21,
   "metadata": {},
   "outputs": [
    {
     "name": "stdout",
     "output_type": "stream",
     "text": [
      "List entities tagged:\n",
      "\n",
      "NP-span [1,2]: \"Novetta Solutions\"\n",
      "VP-span [3]: \"is\"\n",
      "NP-span [4,5,6,7]: \"the best. Albert Einstein\"\n",
      "VP-span [8,9,10,11]: \"used to be employed\"\n",
      "PP-span [12]: \"at\"\n",
      "NP-span [13,14]: \"Novetta Solutions.\"\n",
      "NP-span [15,16,17]: \"\n",
      "The Wright brothers\"\n",
      "VP-span [18,19,20]: \"loved to visit\"\n",
      "NP-span [21,22,23]: \"the JBF headquarters,\"\n",
      "NP-span [25]: \"they\"\n",
      "VP-span [26,27]: \"would have\"\n",
      "NP-span [28,29]: \"a chat\"\n",
      "PP-span [30]: \"with\"\n",
      "NP-span [31]: \"Albert.\"\n"
     ]
    }
   ],
   "source": [
    "print(\"List entities tagged:\\n\")\n",
    "for sen in sentences:\n",
    "    for entity in sen.get_spans(\"np\"):\n",
    "        print(entity)"
   ]
  },
  {
   "cell_type": "code",
   "execution_count": null,
   "metadata": {},
   "outputs": [],
   "source": []
  },
  {
   "cell_type": "code",
   "execution_count": null,
   "metadata": {},
   "outputs": [],
   "source": []
  }
 ],
 "metadata": {
  "kernelspec": {
   "display_name": "Python 3",
   "language": "python",
   "name": "python3"
  },
  "language_info": {
   "codemirror_mode": {
    "name": "ipython",
    "version": 3
   },
   "file_extension": ".py",
   "mimetype": "text/x-python",
   "name": "python",
   "nbconvert_exporter": "python",
   "pygments_lexer": "ipython3",
   "version": "3.6.9"
  }
 },
 "nbformat": 4,
 "nbformat_minor": 4
}
