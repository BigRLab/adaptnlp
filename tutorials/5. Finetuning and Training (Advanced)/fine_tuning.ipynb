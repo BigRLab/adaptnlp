{
 "cells": [
  {
   "cell_type": "markdown",
   "metadata": {},
   "source": [
    "# Fine Tune Transformers Models"
   ]
  },
  {
   "cell_type": "code",
   "execution_count": 2,
   "metadata": {},
   "outputs": [],
   "source": [
    "from adaptnlp import LMFineTuner"
   ]
  },
  {
   "cell_type": "markdown",
   "metadata": {},
   "source": [
    "### 1. Initialize train and test data, same format as you would load in a classifier"
   ]
  },
  {
   "cell_type": "code",
   "execution_count": 3,
   "metadata": {},
   "outputs": [],
   "source": [
    "train_data_file = \"Path/to/train.csv\" \n",
    "eval_data_file = \"Path/to/test.csv\""
   ]
  },
  {
   "cell_type": "markdown",
   "metadata": {},
   "source": [
    "### 2. Initialize Fine Tuner and Freeze up to last layer"
   ]
  },
  {
   "cell_type": "code",
   "execution_count": 4,
   "metadata": {},
   "outputs": [
    {
     "name": "stderr",
     "output_type": "stream",
     "text": [
      "02/03/2020 17:27:02 - WARNING - novettanlp.transformers.finetuning -   Process rank: -1, device: cuda, n_gpu: 1, distributed training: False, 16-bits training: False\n",
      "02/03/2020 17:27:02 - INFO - transformers.configuration_utils -   loading configuration file https://s3.amazonaws.com/models.huggingface.co/bert/bert-base-cased-config.json from cache at /home/ubuntu/.cache/torch/transformers/b945b69218e98b3e2c95acf911789741307dec43c698d35fad11c1ae28bda352.3d5adf10d3445c36ce131f4c6416aa62e9b58e1af56b97664773f4858a46286e\n",
      "02/03/2020 17:27:02 - INFO - transformers.configuration_utils -   Model config {\n",
      "  \"architectures\": [\n",
      "    \"BertForMaskedLM\"\n",
      "  ],\n",
      "  \"attention_probs_dropout_prob\": 0.1,\n",
      "  \"finetuning_task\": null,\n",
      "  \"hidden_act\": \"gelu\",\n",
      "  \"hidden_dropout_prob\": 0.1,\n",
      "  \"hidden_size\": 768,\n",
      "  \"id2label\": {\n",
      "    \"0\": \"LABEL_0\",\n",
      "    \"1\": \"LABEL_1\"\n",
      "  },\n",
      "  \"initializer_range\": 0.02,\n",
      "  \"intermediate_size\": 3072,\n",
      "  \"is_decoder\": false,\n",
      "  \"label2id\": {\n",
      "    \"LABEL_0\": 0,\n",
      "    \"LABEL_1\": 1\n",
      "  },\n",
      "  \"layer_norm_eps\": 1e-12,\n",
      "  \"max_position_embeddings\": 512,\n",
      "  \"num_attention_heads\": 12,\n",
      "  \"num_hidden_layers\": 12,\n",
      "  \"num_labels\": 2,\n",
      "  \"output_attentions\": false,\n",
      "  \"output_hidden_states\": false,\n",
      "  \"output_past\": true,\n",
      "  \"pruned_heads\": {},\n",
      "  \"torchscript\": false,\n",
      "  \"type_vocab_size\": 2,\n",
      "  \"use_bfloat16\": false,\n",
      "  \"vocab_size\": 28996\n",
      "}\n",
      "\n",
      "02/03/2020 17:27:02 - INFO - transformers.tokenization_utils -   loading file https://s3.amazonaws.com/models.huggingface.co/bert/bert-base-cased-vocab.txt from cache at /home/ubuntu/.cache/torch/transformers/5e8a2b4893d13790ed4150ca1906be5f7a03d6c4ddf62296c383f6db42814db2.e13dbb970cb325137104fb2e5f36fe865f27746c6b526f6352861b1980eb80b1\n",
      "02/03/2020 17:27:02 - INFO - transformers.modeling_utils -   loading weights file https://s3.amazonaws.com/models.huggingface.co/bert/bert-base-cased-pytorch_model.bin from cache at /home/ubuntu/.cache/torch/transformers/35d8b9d36faaf46728a0192d82bf7d00137490cd6074e8500778afed552a67e5.3fadbea36527ae472139fe84cddaa65454d7429f12d543d80bfc3ad70de55ac2\n",
      "02/03/2020 17:27:05 - INFO - transformers.modeling_utils -   Weights from pretrained model not used in BertForMaskedLM: ['cls.seq_relationship.weight', 'cls.seq_relationship.bias']\n"
     ]
    }
   ],
   "source": [
    "ft_configs = {\n",
    "              \"train_data_file\": train_data_file,\n",
    "              \"eval_data_file\": eval_data_file,\n",
    "              \"model_type\": \"bert\",\n",
    "              \"model_name_or_path\": \"bert-base-cased\",\n",
    "              \"mlm\": True,\n",
    "              \"mlm_probability\": 0.15,\n",
    "              \"config_name\": None,\n",
    "              \"tokenizer_name\": None,\n",
    "              \"cache_dir\": None,\n",
    "              \"block_size\": -1,\n",
    "              \"no_cuda\": False,\n",
    "              \"overwrite_cache\": False,\n",
    "              \"seed\": 42,\n",
    "              \"fp16\": False,\n",
    "              \"fp16_opt_level\": \"01\",\n",
    "              \"local_rank\": -1,\n",
    "             }\n",
    "finetuner = LMFineTuner(**ft_configs)\n",
    "finetuner.freeze()"
   ]
  },
  {
   "cell_type": "markdown",
   "metadata": {},
   "source": [
    "### 3. Find Learning Rate for Fine Tuner with automated learning rate finder"
   ]
  },
  {
   "cell_type": "code",
   "execution_count": 5,
   "metadata": {},
   "outputs": [
    {
     "name": "stderr",
     "output_type": "stream",
     "text": [
      "02/03/2020 17:27:30 - INFO - novettanlp.transformers.finetuning -   Creating features from dataset file at ../../development/data/trec_6\n"
     ]
    },
    {
     "name": "stdout",
     "output_type": "stream",
     "text": [
      "Opening file\n",
      "Reading file ../../development/data/trec_6/train.csv\n"
     ]
    },
    {
     "name": "stderr",
     "output_type": "stream",
     "text": [
      "100%|██████████| 122/122 [00:00<00:00, 89694.14it/s]\n",
      "02/03/2020 17:27:31 - INFO - novettanlp.transformers.finetuning -   Saving features into cached file ../../development/data/trec_6/bert_cached_lm_510_train.csv\n"
     ]
    },
    {
     "name": "stdout",
     "output_type": "stream",
     "text": [
      "iterating through tokenized text\n",
      "[1.4454397707459274e-07, 1.4454397707459274e-07]\n",
      "[1.7378008287493754e-07, 1.7378008287493754e-07]\n",
      "[2.0892961308540395e-07, 2.0892961308540395e-07]\n",
      "[2.51188643150958e-07, 2.51188643150958e-07]\n",
      "[3.019951720402016e-07, 3.019951720402016e-07]\n",
      "[3.6307805477010137e-07, 3.6307805477010137e-07]\n",
      "[4.36515832240166e-07, 4.36515832240166e-07]\n",
      "[5.248074602497725e-07, 5.248074602497725e-07]\n",
      "[6.309573444801933e-07, 6.309573444801933e-07]\n",
      "[7.585775750291837e-07, 7.585775750291837e-07]\n",
      "[9.120108393559096e-07, 9.120108393559096e-07]\n",
      "[1.096478196143185e-06, 1.096478196143185e-06]\n",
      "[1.3182567385564074e-06, 1.3182567385564074e-06]\n",
      "[1.5848931924611132e-06, 1.5848931924611132e-06]\n",
      "[1.9054607179632473e-06, 1.9054607179632473e-06]\n",
      "[2.2908676527677735e-06, 2.2908676527677735e-06]\n",
      "[2.754228703338166e-06, 2.754228703338166e-06]\n",
      "[3.311311214825911e-06, 3.311311214825911e-06]\n",
      "[3.981071705534973e-06, 3.981071705534973e-06]\n",
      "[4.7863009232263826e-06, 4.7863009232263826e-06]\n",
      "[5.754399373371569e-06, 5.754399373371569e-06]\n",
      "[6.918309709189365e-06, 6.918309709189365e-06]\n",
      "[8.317637711026708e-06, 8.317637711026708e-06]\n",
      "[9.999999999999999e-06, 9.999999999999999e-06]\n",
      "[1.202264434617413e-05, 1.202264434617413e-05]\n",
      "[1.4454397707459279e-05, 1.4454397707459279e-05]\n",
      "[1.737800828749376e-05, 1.737800828749376e-05]\n",
      "[2.0892961308540385e-05, 2.0892961308540385e-05]\n",
      "[2.5118864315095795e-05, 2.5118864315095795e-05]\n",
      "[3.019951720402016e-05, 3.019951720402016e-05]\n",
      "[3.630780547701014e-05, 3.630780547701014e-05]\n",
      "[4.365158322401661e-05, 4.365158322401661e-05]\n",
      "[5.248074602497728e-05, 5.248074602497728e-05]\n",
      "[6.309573444801929e-05, 6.309573444801929e-05]\n",
      "[7.585775750291836e-05, 7.585775750291836e-05]\n",
      "[9.120108393559096e-05, 9.120108393559096e-05]\n",
      "[0.00010964781961431851, 0.00010964781961431851]\n",
      "[0.00013182567385564074, 0.00013182567385564074]\n",
      "[0.0001584893192461114, 0.0001584893192461114]\n",
      "[0.00019054607179632462, 0.00019054607179632462]\n",
      "[0.00022908676527677726, 0.00022908676527677726]\n",
      "[0.0002754228703338166, 0.0002754228703338166]\n",
      "[0.0003311311214825911, 0.0003311311214825911]\n",
      "[0.0003981071705534973, 0.0003981071705534973]\n",
      "[0.0004786300923226385, 0.0004786300923226385]\n",
      "[0.0005754399373371565, 0.0005754399373371565]\n",
      "[0.0006918309709189362, 0.0006918309709189362]\n",
      "[0.0008317637711026709, 0.0008317637711026709]\n",
      "[0.001, 0.001]\n",
      "[0.001202264434617413, 0.001202264434617413]\n",
      "[0.001445439770745928, 0.001445439770745928]\n",
      "[0.001737800828749376, 0.001737800828749376]\n",
      "[0.0020892961308540407, 0.0020892961308540407]\n",
      "[0.002511886431509582, 0.002511886431509582]\n",
      "[0.0030199517204020187, 0.0030199517204020187]\n",
      "[0.00363078054770101, 0.00363078054770101]\n",
      "[0.004365158322401656, 0.004365158322401656]\n",
      "[0.005248074602497722, 0.005248074602497722]\n",
      "[0.006309573444801929, 0.006309573444801929]\n",
      "[0.007585775750291836, 0.007585775750291836]\n",
      "[0.009120108393559097, 0.009120108393559097]\n",
      "[0.01096478196143185, 0.01096478196143185]\n",
      "[0.013182567385564075, 0.013182567385564075]\n",
      "[0.01584893192461114, 0.01584893192461114]\n",
      "[0.019054607179632484, 0.019054607179632484]\n",
      "[0.022908676527677745, 0.022908676527677745]\n",
      "[0.027542287033381692, 0.027542287033381692]\n",
      "[0.03311311214825908, 0.03311311214825908]\n",
      "[0.03981071705534969, 0.03981071705534969]\n",
      "[0.0478630092322638, 0.0478630092322638]\n",
      "[0.05754399373371566, 0.05754399373371566]\n",
      "[0.06918309709189363, 0.06918309709189363]\n",
      "[0.08317637711026708, 0.08317637711026708]\n",
      "[0.09999999999999999, 0.09999999999999999]\n",
      "[0.12022644346174131, 0.12022644346174131]\n",
      "[0.1445439770745928, 0.1445439770745928]\n",
      "[0.17378008287493762, 0.17378008287493762]\n",
      "[0.2089296130854041, 0.2089296130854041]\n",
      "[0.25118864315095824, 0.25118864315095824]\n",
      "[0.3019951720402019, 0.3019951720402019]\n",
      "[0.36307805477010097, 0.36307805477010097]\n",
      "[0.43651583224016566, 0.43651583224016566]\n",
      "[0.5248074602497723, 0.5248074602497723]\n",
      "[0.630957344480193, 0.630957344480193]\n",
      "[0.7585775750291835, 0.7585775750291835]\n",
      "[0.9120108393559095, 0.9120108393559095]\n",
      "[1.096478196143185, 1.096478196143185]\n",
      "[1.3182567385564072, 1.3182567385564072]\n",
      "[1.584893192461114, 1.584893192461114]\n",
      "[1.9054607179632481, 1.9054607179632481]\n",
      "[2.290867652767775, 2.290867652767775]\n",
      "[2.754228703338169, 2.754228703338169]\n",
      "[3.3113112148259076, 3.3113112148259076]\n",
      "[3.981071705534969, 3.981071705534969]\n"
     ]
    },
    {
     "name": "stderr",
     "output_type": "stream",
     "text": [
      "02/03/2020 17:27:44 - INFO - novettanlp.transformers.finetuning -   ----------------------------------------------------------------------------------------------------\n",
      "02/03/2020 17:27:44 - INFO - novettanlp.transformers.finetuning -   loss diverged - stopping early!\n",
      "02/03/2020 17:27:44 - INFO - novettanlp.transformers.finetuning -   ----------------------------------------------------------------------------------------------------\n",
      "02/03/2020 17:27:44 - INFO - novettanlp.transformers.finetuning -   learning rate finder finished - plot resources/finetuned/bert-base-cased-trec_6/learning_rate.tsv \n",
      " Reinitalizing model's parameters and optimizer\n",
      "02/03/2020 17:27:44 - INFO - novettanlp.transformers.finetuning -   ----------------------------------------------------------------------------------------------------\n",
      "02/03/2020 17:27:44 - WARNING - novettanlp.transformers.finetuning -   Process rank: -1, device: cuda, n_gpu: 1, distributed training: False, 16-bits training: False\n",
      "02/03/2020 17:27:44 - INFO - transformers.configuration_utils -   loading configuration file https://s3.amazonaws.com/models.huggingface.co/bert/bert-base-cased-config.json from cache at /home/ubuntu/.cache/torch/transformers/b945b69218e98b3e2c95acf911789741307dec43c698d35fad11c1ae28bda352.3d5adf10d3445c36ce131f4c6416aa62e9b58e1af56b97664773f4858a46286e\n",
      "02/03/2020 17:27:44 - INFO - transformers.configuration_utils -   Model config {\n",
      "  \"architectures\": [\n",
      "    \"BertForMaskedLM\"\n",
      "  ],\n",
      "  \"attention_probs_dropout_prob\": 0.1,\n",
      "  \"finetuning_task\": null,\n",
      "  \"hidden_act\": \"gelu\",\n",
      "  \"hidden_dropout_prob\": 0.1,\n",
      "  \"hidden_size\": 768,\n",
      "  \"id2label\": {\n",
      "    \"0\": \"LABEL_0\",\n",
      "    \"1\": \"LABEL_1\"\n",
      "  },\n",
      "  \"initializer_range\": 0.02,\n",
      "  \"intermediate_size\": 3072,\n",
      "  \"is_decoder\": false,\n",
      "  \"label2id\": {\n",
      "    \"LABEL_0\": 0,\n",
      "    \"LABEL_1\": 1\n",
      "  },\n",
      "  \"layer_norm_eps\": 1e-12,\n",
      "  \"max_position_embeddings\": 512,\n",
      "  \"num_attention_heads\": 12,\n",
      "  \"num_hidden_layers\": 12,\n",
      "  \"num_labels\": 2,\n",
      "  \"output_attentions\": false,\n",
      "  \"output_hidden_states\": false,\n",
      "  \"output_past\": true,\n",
      "  \"pruned_heads\": {},\n",
      "  \"torchscript\": false,\n",
      "  \"type_vocab_size\": 2,\n",
      "  \"use_bfloat16\": false,\n",
      "  \"vocab_size\": 28996\n",
      "}\n",
      "\n",
      "02/03/2020 17:27:44 - INFO - transformers.tokenization_utils -   loading file https://s3.amazonaws.com/models.huggingface.co/bert/bert-base-cased-vocab.txt from cache at /home/ubuntu/.cache/torch/transformers/5e8a2b4893d13790ed4150ca1906be5f7a03d6c4ddf62296c383f6db42814db2.e13dbb970cb325137104fb2e5f36fe865f27746c6b526f6352861b1980eb80b1\n",
      "02/03/2020 17:27:44 - INFO - transformers.modeling_utils -   loading weights file https://s3.amazonaws.com/models.huggingface.co/bert/bert-base-cased-pytorch_model.bin from cache at /home/ubuntu/.cache/torch/transformers/35d8b9d36faaf46728a0192d82bf7d00137490cd6074e8500778afed552a67e5.3fadbea36527ae472139fe84cddaa65454d7429f12d543d80bfc3ad70de55ac2\n"
     ]
    },
    {
     "name": "stdout",
     "output_type": "stream",
     "text": [
      "[4.7863009232263805, 4.7863009232263805]\n"
     ]
    },
    {
     "name": "stderr",
     "output_type": "stream",
     "text": [
      "02/03/2020 17:27:48 - INFO - transformers.modeling_utils -   Weights from pretrained model not used in BertForMaskedLM: ['cls.seq_relationship.weight', 'cls.seq_relationship.bias']\n"
     ]
    },
    {
     "name": "stdout",
     "output_type": "stream",
     "text": [
      "Learning_rate plots are saved in resources/finetuned/bert-base-cased-trec_6/learning_rate.png\n"
     ]
    },
    {
     "data": {
      "image/png": "[encoded data removed]",
      "text/plain": [
       "<Figure size 432x288 with 1 Axes>"
      ]
     },
     "metadata": {
      "needs_background": "light"
     },
     "output_type": "display_data"
    },
    {
     "name": "stdout",
     "output_type": "stream",
     "text": [
      "Recommended Learning Rate 0.004365158322401656\n"
     ]
    }
   ],
   "source": [
    "learning_rate_finder_configs = {\n",
    "    \"base_path\": \"./resources/finetuned/bert-base-cased-trec_6\",\n",
    "    \"file_name\": \"learning_rate.tsv\",\n",
    "    \"start_learning_rate\": 1e-7,\n",
    "    \"end_learning_rate\": 10,\n",
    "    \"iterations\": 100,\n",
    "    \"mini_batch_size\": 8,\n",
    "    \"stop_early\": True,\n",
    "    \"smoothing_factor\": 0.7,\n",
    "    \"adam_epsilon\": 1e-8,\n",
    "    \"weight_decay\": 0.0,\n",
    "}\n",
    "learning_rate = finetuner.find_learning_rate(**learning_rate_finder_configs)\n",
    "finetuner.freeze()"
   ]
  },
  {
   "cell_type": "markdown",
   "metadata": {},
   "source": [
    "### 4. Train One Cycle"
   ]
  },
  {
   "cell_type": "code",
   "execution_count": 6,
   "metadata": {},
   "outputs": [
    {
     "name": "stderr",
     "output_type": "stream",
     "text": [
      "02/03/2020 17:28:41 - INFO - novettanlp.transformers.finetuning -   Training/evaluation parameters {'use_tensorboard': False, 'save_total_limit': None, 'save_steps': 50, 'logging_steps': 50, 'warmup_steps': 0, 'max_steps': -1, 'num_train_epochs': 10.0, 'max_grad_norm': 1.0, 'adam_epsilon': 1e-08, 'weight_decay': 0.0, 'learning_rate': 0.004365158322401656, 'gradient_accumulation_steps': 1, 'per_gpu_train_batch_size': 4, 'evaluate_during_training': True, 'overwrite_output_dir': True, 'should_continue': False, 'output_dir': './resources/finetuned/bert-base-cased-trec_6', 'init_locals': {...}, 'self': <novettanlp.transformers.finetuning.LMFineTuner object at 0x7fca31b4a390>}\n",
      "02/03/2020 17:28:41 - INFO - novettanlp.transformers.finetuning -   Loading features from cached file ../../development/data/trec_6/bert_cached_lm_510_train.csv\n",
      "02/03/2020 17:28:41 - INFO - novettanlp.transformers.finetuning -   ***** Running training *****\n",
      "02/03/2020 17:28:41 - INFO - novettanlp.transformers.finetuning -     Num examples = 122\n",
      "02/03/2020 17:28:41 - INFO - novettanlp.transformers.finetuning -     Num Epochs = 10\n",
      "02/03/2020 17:28:41 - INFO - novettanlp.transformers.finetuning -     Instantaneous batch size per GPU = 4\n",
      "02/03/2020 17:28:41 - INFO - novettanlp.transformers.finetuning -     Total train batch size (w. parallel, distributed & accumulation) = 4\n",
      "02/03/2020 17:28:41 - INFO - novettanlp.transformers.finetuning -     Gradient Accumulation steps = 1\n",
      "02/03/2020 17:28:41 - INFO - novettanlp.transformers.finetuning -     Total optimization steps = 310\n",
      "Iteration: 100%|██████████| 31/31 [00:02<00:00, 13.41it/s]\n",
      "Iteration:  58%|█████▊    | 18/31 [00:01<00:00, 13.34it/s]02/03/2020 17:28:45 - INFO - novettanlp.transformers.finetuning -   Creating features from dataset file at ../../development/data/trec_6\n",
      "100%|██████████| 9/9 [00:00<00:00, 34920.20it/s]\n",
      "02/03/2020 17:28:45 - INFO - novettanlp.transformers.finetuning -   Saving features into cached file ../../development/data/trec_6/bert_cached_lm_510_test.csv\n",
      "02/03/2020 17:28:45 - INFO - novettanlp.transformers.finetuning -   ***** Running evaluation  *****\n",
      "02/03/2020 17:28:45 - INFO - novettanlp.transformers.finetuning -     Num examples = 9\n",
      "02/03/2020 17:28:45 - INFO - novettanlp.transformers.finetuning -     Batch size = 4\n",
      "Evaluating:  67%|██████▋   | 2/3 [00:00<00:00, 16.54it/s]"
     ]
    },
    {
     "name": "stdout",
     "output_type": "stream",
     "text": [
      "Opening file\n",
      "Reading file ../../development/data/trec_6/test.csv\n",
      "iterating through tokenized text\n"
     ]
    },
    {
     "name": "stderr",
     "output_type": "stream",
     "text": [
      "Evaluating: 100%|██████████| 3/3 [00:00<00:00, 21.17it/s]\n",
      "02/03/2020 17:28:45 - INFO - novettanlp.transformers.finetuning -   ***** Eval results  *****\n",
      "02/03/2020 17:28:45 - INFO - novettanlp.transformers.finetuning -     perplexity = tensor(16.1410)\n",
      "02/03/2020 17:28:45 - INFO - transformers.configuration_utils -   Configuration saved in ./resources/finetuned/bert-base-cased-trec_6/checkpoint-50/config.json\n",
      "02/03/2020 17:28:48 - INFO - transformers.modeling_utils -   Model weights saved in ./resources/finetuned/bert-base-cased-trec_6/checkpoint-50/pytorch_model.bin\n",
      "02/03/2020 17:28:49 - INFO - novettanlp.transformers.finetuning -   Saving model checkpoint to ./resources/finetuned/bert-base-cased-trec_6/checkpoint-50\n",
      "02/03/2020 17:28:51 - INFO - novettanlp.transformers.finetuning -   Saving optimizer and scheduler states to ./resources/finetuned/bert-base-cased-trec_6/checkpoint-50\n",
      "Iteration: 100%|██████████| 31/31 [00:08<00:00,  3.72it/s]\n",
      "Iteration: 100%|██████████| 31/31 [00:02<00:00, 13.54it/s]\n",
      "Iteration:  19%|█▉        | 6/31 [00:00<00:01, 13.25it/s]02/03/2020 17:28:55 - INFO - novettanlp.transformers.finetuning -   Loading features from cached file ../../development/data/trec_6/bert_cached_lm_510_test.csv\n",
      "02/03/2020 17:28:55 - INFO - novettanlp.transformers.finetuning -   ***** Running evaluation  *****\n",
      "02/03/2020 17:28:55 - INFO - novettanlp.transformers.finetuning -     Num examples = 9\n",
      "02/03/2020 17:28:55 - INFO - novettanlp.transformers.finetuning -     Batch size = 4\n",
      "Evaluating: 100%|██████████| 3/3 [00:00<00:00, 20.62it/s]\n",
      "02/03/2020 17:28:55 - INFO - novettanlp.transformers.finetuning -   ***** Eval results  *****\n",
      "02/03/2020 17:28:55 - INFO - novettanlp.transformers.finetuning -     perplexity = tensor(16.1370)\n",
      "02/03/2020 17:28:55 - INFO - transformers.configuration_utils -   Configuration saved in ./resources/finetuned/bert-base-cased-trec_6/checkpoint-100/config.json\n",
      "02/03/2020 17:28:56 - INFO - transformers.modeling_utils -   Model weights saved in ./resources/finetuned/bert-base-cased-trec_6/checkpoint-100/pytorch_model.bin\n",
      "02/03/2020 17:28:58 - INFO - novettanlp.transformers.finetuning -   Saving model checkpoint to ./resources/finetuned/bert-base-cased-trec_6/checkpoint-100\n",
      "02/03/2020 17:29:00 - INFO - novettanlp.transformers.finetuning -   Saving optimizer and scheduler states to ./resources/finetuned/bert-base-cased-trec_6/checkpoint-100\n",
      "Iteration: 100%|██████████| 31/31 [00:07<00:00,  3.95it/s]\n",
      "Iteration:  77%|███████▋  | 24/31 [00:01<00:00, 13.34it/s]02/03/2020 17:29:04 - INFO - novettanlp.transformers.finetuning -   Loading features from cached file ../../development/data/trec_6/bert_cached_lm_510_test.csv\n",
      "02/03/2020 17:29:04 - INFO - novettanlp.transformers.finetuning -   ***** Running evaluation  *****\n",
      "02/03/2020 17:29:04 - INFO - novettanlp.transformers.finetuning -     Num examples = 9\n",
      "02/03/2020 17:29:04 - INFO - novettanlp.transformers.finetuning -     Batch size = 4\n",
      "Evaluating: 100%|██████████| 3/3 [00:00<00:00, 21.22it/s]\n",
      "02/03/2020 17:29:04 - INFO - novettanlp.transformers.finetuning -   ***** Eval results  *****\n",
      "02/03/2020 17:29:04 - INFO - novettanlp.transformers.finetuning -     perplexity = tensor(13.9778)\n",
      "02/03/2020 17:29:04 - INFO - transformers.configuration_utils -   Configuration saved in ./resources/finetuned/bert-base-cased-trec_6/checkpoint-150/config.json\n",
      "02/03/2020 17:29:06 - INFO - transformers.modeling_utils -   Model weights saved in ./resources/finetuned/bert-base-cased-trec_6/checkpoint-150/pytorch_model.bin\n",
      "02/03/2020 17:29:08 - INFO - novettanlp.transformers.finetuning -   Saving model checkpoint to ./resources/finetuned/bert-base-cased-trec_6/checkpoint-150\n",
      "02/03/2020 17:29:10 - INFO - novettanlp.transformers.finetuning -   Saving optimizer and scheduler states to ./resources/finetuned/bert-base-cased-trec_6/checkpoint-150\n",
      "Iteration: 100%|██████████| 31/31 [00:07<00:00,  3.97it/s]\n",
      "Iteration: 100%|██████████| 31/31 [00:02<00:00, 13.52it/s]\n",
      "Iteration:  39%|███▊      | 12/31 [00:00<00:01, 13.34it/s]02/03/2020 17:29:13 - INFO - novettanlp.transformers.finetuning -   Loading features from cached file ../../development/data/trec_6/bert_cached_lm_510_test.csv\n",
      "02/03/2020 17:29:13 - INFO - novettanlp.transformers.finetuning -   ***** Running evaluation  *****\n",
      "02/03/2020 17:29:13 - INFO - novettanlp.transformers.finetuning -     Num examples = 9\n",
      "02/03/2020 17:29:13 - INFO - novettanlp.transformers.finetuning -     Batch size = 4\n",
      "Evaluating: 100%|██████████| 3/3 [00:00<00:00, 21.28it/s]\n",
      "02/03/2020 17:29:14 - INFO - novettanlp.transformers.finetuning -   ***** Eval results  *****\n",
      "02/03/2020 17:29:14 - INFO - novettanlp.transformers.finetuning -     perplexity = tensor(11.6414)\n",
      "02/03/2020 17:29:14 - INFO - transformers.configuration_utils -   Configuration saved in ./resources/finetuned/bert-base-cased-trec_6/checkpoint-200/config.json\n",
      "02/03/2020 17:29:15 - INFO - transformers.modeling_utils -   Model weights saved in ./resources/finetuned/bert-base-cased-trec_6/checkpoint-200/pytorch_model.bin\n",
      "02/03/2020 17:29:17 - INFO - novettanlp.transformers.finetuning -   Saving model checkpoint to ./resources/finetuned/bert-base-cased-trec_6/checkpoint-200\n",
      "02/03/2020 17:29:19 - INFO - novettanlp.transformers.finetuning -   Saving optimizer and scheduler states to ./resources/finetuned/bert-base-cased-trec_6/checkpoint-200\n",
      "Iteration: 100%|██████████| 31/31 [00:07<00:00,  3.97it/s]\n",
      "Iteration: 100%|██████████| 31/31 [00:02<00:00, 13.53it/s]\n",
      "Iteration:   0%|          | 0/31 [00:00<?, ?it/s]/it]02/03/2020 17:29:23 - INFO - novettanlp.transformers.finetuning -   Loading features from cached file ../../development/data/trec_6/bert_cached_lm_510_test.csv\n",
      "02/03/2020 17:29:23 - INFO - novettanlp.transformers.finetuning -   ***** Running evaluation  *****\n",
      "02/03/2020 17:29:23 - INFO - novettanlp.transformers.finetuning -     Num examples = 9\n",
      "02/03/2020 17:29:23 - INFO - novettanlp.transformers.finetuning -     Batch size = 4\n",
      "Evaluating: 100%|██████████| 3/3 [00:00<00:00, 21.10it/s]\n",
      "02/03/2020 17:29:23 - INFO - novettanlp.transformers.finetuning -   ***** Eval results  *****\n",
      "02/03/2020 17:29:23 - INFO - novettanlp.transformers.finetuning -     perplexity = tensor(11.3500)\n",
      "02/03/2020 17:29:23 - INFO - transformers.configuration_utils -   Configuration saved in ./resources/finetuned/bert-base-cased-trec_6/checkpoint-250/config.json\n",
      "02/03/2020 17:29:24 - INFO - transformers.modeling_utils -   Model weights saved in ./resources/finetuned/bert-base-cased-trec_6/checkpoint-250/pytorch_model.bin\n",
      "02/03/2020 17:29:26 - INFO - novettanlp.transformers.finetuning -   Saving model checkpoint to ./resources/finetuned/bert-base-cased-trec_6/checkpoint-250\n",
      "02/03/2020 17:29:28 - INFO - novettanlp.transformers.finetuning -   Saving optimizer and scheduler states to ./resources/finetuned/bert-base-cased-trec_6/checkpoint-250\n",
      "Iteration: 100%|██████████| 31/31 [00:07<00:00,  3.97it/s]\n",
      "Iteration:  65%|██████▍   | 20/31 [00:01<00:00, 13.32it/s]02/03/2020 17:29:32 - INFO - novettanlp.transformers.finetuning -   Loading features from cached file ../../development/data/trec_6/bert_cached_lm_510_test.csv\n",
      "02/03/2020 17:29:32 - INFO - novettanlp.transformers.finetuning -   ***** Running evaluation  *****\n",
      "02/03/2020 17:29:32 - INFO - novettanlp.transformers.finetuning -     Num examples = 9\n",
      "02/03/2020 17:29:32 - INFO - novettanlp.transformers.finetuning -     Batch size = 4\n",
      "Evaluating: 100%|██████████| 3/3 [00:00<00:00, 21.13it/s]\n",
      "02/03/2020 17:29:32 - INFO - novettanlp.transformers.finetuning -   ***** Eval results  *****\n",
      "02/03/2020 17:29:32 - INFO - novettanlp.transformers.finetuning -     perplexity = tensor(19.7518)\n",
      "02/03/2020 17:29:32 - INFO - transformers.configuration_utils -   Configuration saved in ./resources/finetuned/bert-base-cased-trec_6/checkpoint-300/config.json\n",
      "02/03/2020 17:29:33 - INFO - transformers.modeling_utils -   Model weights saved in ./resources/finetuned/bert-base-cased-trec_6/checkpoint-300/pytorch_model.bin\n",
      "02/03/2020 17:29:35 - INFO - novettanlp.transformers.finetuning -   Saving model checkpoint to ./resources/finetuned/bert-base-cased-trec_6/checkpoint-300\n",
      "02/03/2020 17:29:37 - INFO - novettanlp.transformers.finetuning -   Saving optimizer and scheduler states to ./resources/finetuned/bert-base-cased-trec_6/checkpoint-300\n",
      "Iteration: 100%|██████████| 31/31 [00:07<00:00,  3.96it/s]\n",
      "Epoch: 100%|██████████| 10/10 [00:56<00:00,  5.67s/it]\n",
      "02/03/2020 17:29:38 - INFO - novettanlp.transformers.finetuning -    global_step = 310, average loss = 3.4588510674815023\n",
      "02/03/2020 17:29:38 - INFO - novettanlp.transformers.finetuning -   Saving model checkpoint to ./resources/finetuned/bert-base-cased-trec_6\n",
      "02/03/2020 17:29:38 - INFO - transformers.configuration_utils -   Configuration saved in ./resources/finetuned/bert-base-cased-trec_6/config.json\n",
      "02/03/2020 17:29:39 - INFO - transformers.modeling_utils -   Model weights saved in ./resources/finetuned/bert-base-cased-trec_6/pytorch_model.bin\n",
      "02/03/2020 17:29:41 - INFO - transformers.configuration_utils -   loading configuration file ./resources/finetuned/bert-base-cased-trec_6/config.json\n",
      "02/03/2020 17:29:41 - INFO - transformers.configuration_utils -   Model config {\n",
      "  \"architectures\": [\n",
      "    \"BertForMaskedLM\"\n",
      "  ],\n",
      "  \"attention_probs_dropout_prob\": 0.1,\n",
      "  \"finetuning_task\": null,\n",
      "  \"hidden_act\": \"gelu\",\n",
      "  \"hidden_dropout_prob\": 0.1,\n",
      "  \"hidden_size\": 768,\n",
      "  \"id2label\": {\n",
      "    \"0\": \"LABEL_0\",\n",
      "    \"1\": \"LABEL_1\"\n",
      "  },\n",
      "  \"initializer_range\": 0.02,\n",
      "  \"intermediate_size\": 3072,\n",
      "  \"is_decoder\": false,\n",
      "  \"label2id\": {\n",
      "    \"LABEL_0\": 0,\n",
      "    \"LABEL_1\": 1\n",
      "  },\n",
      "  \"layer_norm_eps\": 1e-12,\n",
      "  \"max_position_embeddings\": 512,\n",
      "  \"num_attention_heads\": 12,\n",
      "  \"num_hidden_layers\": 12,\n",
      "  \"num_labels\": 2,\n",
      "  \"output_attentions\": false,\n",
      "  \"output_hidden_states\": false,\n",
      "  \"output_past\": true,\n",
      "  \"pruned_heads\": {},\n",
      "  \"torchscript\": false,\n",
      "  \"type_vocab_size\": 2,\n",
      "  \"use_bfloat16\": false,\n",
      "  \"vocab_size\": 28996\n",
      "}\n",
      "\n",
      "02/03/2020 17:29:41 - INFO - transformers.modeling_utils -   loading weights file ./resources/finetuned/bert-base-cased-trec_6/pytorch_model.bin\n",
      "02/03/2020 17:29:44 - INFO - transformers.tokenization_utils -   Model name './resources/finetuned/bert-base-cased-trec_6' not found in model shortcut name list (bert-base-uncased, bert-large-uncased, bert-base-cased, bert-large-cased, bert-base-multilingual-uncased, bert-base-multilingual-cased, bert-base-chinese, bert-base-german-cased, bert-large-uncased-whole-word-masking, bert-large-cased-whole-word-masking, bert-large-uncased-whole-word-masking-finetuned-squad, bert-large-cased-whole-word-masking-finetuned-squad, bert-base-cased-finetuned-mrpc, bert-base-german-dbmdz-cased, bert-base-german-dbmdz-uncased, bert-base-finnish-cased-v1, bert-base-finnish-uncased-v1). Assuming './resources/finetuned/bert-base-cased-trec_6' is a path or url to a directory containing tokenizer files.\n",
      "02/03/2020 17:29:44 - INFO - transformers.tokenization_utils -   loading file ./resources/finetuned/bert-base-cased-trec_6/vocab.txt\n",
      "02/03/2020 17:29:44 - INFO - transformers.tokenization_utils -   loading file ./resources/finetuned/bert-base-cased-trec_6/added_tokens.json\n",
      "02/03/2020 17:29:44 - INFO - transformers.tokenization_utils -   loading file ./resources/finetuned/bert-base-cased-trec_6/special_tokens_map.json\n",
      "02/03/2020 17:29:44 - INFO - transformers.tokenization_utils -   loading file ./resources/finetuned/bert-base-cased-trec_6/tokenizer_config.json\n"
     ]
    }
   ],
   "source": [
    "finetuner.freeze()\n",
    "train_configs = {\n",
    "    \"output_dir\": \"./resources/finetuned/bert-base-cased-trec_6\",\n",
    "    \"should_continue\": False,\n",
    "    \"overwrite_output_dir\": True,\n",
    "    \"evaluate_during_training\": True,\n",
    "    \"per_gpu_train_batch_size\": 4,\n",
    "    \"gradient_accumulation_steps\": 1,\n",
    "    \"learning_rate\": learning_rate,\n",
    "    \"weight_decay\": 0.0,\n",
    "    \"adam_epsilon\": 1e-8,\n",
    "    \"max_grad_norm\": 1.0,\n",
    "    \"num_train_epochs\": 10.0,\n",
    "    \"max_steps\": -1,\n",
    "    \"warmup_steps\": 0,\n",
    "    \"logging_steps\": 50,\n",
    "    \"save_steps\": 50,\n",
    "    \"save_total_limit\": None,\n",
    "    \"use_tensorboard\": False,\n",
    "}\n",
    "finetuner.train_one_cycle(**train_configs)"
   ]
  },
  {
   "cell_type": "code",
   "execution_count": null,
   "metadata": {},
   "outputs": [],
   "source": [
    "finetuner.train(**train_configs)"
   ]
  },
  {
   "cell_type": "code",
   "execution_count": null,
   "metadata": {},
   "outputs": [],
   "source": []
  }
 ],
 "metadata": {
  "kernelspec": {
   "display_name": "Python 3",
   "language": "python",
   "name": "python3"
  },
  "language_info": {
   "codemirror_mode": {
    "name": "ipython",
    "version": 3
   },
   "file_extension": ".py",
   "mimetype": "text/x-python",
   "name": "python",
   "nbconvert_exporter": "python",
   "pygments_lexer": "ipython3",
   "version": "3.6.8"
  }
 },
 "nbformat": 4,
 "nbformat_minor": 4
}
