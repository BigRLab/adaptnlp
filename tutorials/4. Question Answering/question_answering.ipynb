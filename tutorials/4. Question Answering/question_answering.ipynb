{
 "cells": [
  {
   "cell_type": "code",
   "execution_count": 1,
   "metadata": {},
   "outputs": [],
   "source": [
    "from adaptnlp import EasyQuestionAnswering"
   ]
  },
  {
   "cell_type": "markdown",
   "metadata": {},
   "source": [
    "# Question Answering Example with BERT"
   ]
  },
  {
   "cell_type": "markdown",
   "metadata": {},
   "source": [
    "### Instantiate `EasyQuestionAnswering`"
   ]
  },
  {
   "cell_type": "code",
   "execution_count": 2,
   "metadata": {},
   "outputs": [],
   "source": [
    "qa_model = EasyQuestionAnswering()"
   ]
  },
  {
   "cell_type": "markdown",
   "metadata": {},
   "source": [
    "### Load Question and Context and Predict"
   ]
  },
  {
   "cell_type": "code",
   "execution_count": 3,
   "metadata": {},
   "outputs": [
    {
     "name": "stdout",
     "output_type": "stream",
     "text": [
      "Loading Pretrained Bert Question Answering Model...\n"
     ]
    }
   ],
   "source": [
    "text = \"\"\"Amazon.com, Inc.[6] (/ˈæməzɒn/), is an American multinational technology company based in Seattle, \n",
    "Washington that focuses on e-commerce, cloud computing, digital streaming, and artificial intelligence. \n",
    "It is considered one of the Big Four technology companies along with Google, Apple, and Facebook.[7][8][9] \n",
    "Amazon is known for its disruption of well-established industries through technological innovation and mass \n",
    "scale.[10][11][12] It is the world's largest e-commerce marketplace, AI assistant provider, and cloud computing \n",
    "platform[13] as measured by revenue and market capitalization.[14] Amazon is the largest Internet company by \n",
    "revenue in the world.[15] It is the second largest private employer in the United States[16] and one of the world's \n",
    "most valuable companies. Amazon is the second largest technology company by revenue. Amazon was founded by Jeff Bezos \n",
    "on July 5, 1994, in Bellevue, Washington. The company initially started as an online marketplace for books but later \n",
    "expanded to sell electronics, software, video games, apparel, furniture, food, toys, and jewelry. In 2015, Amazon \n",
    "surpassed Walmart as the most valuable retailer in the United States by market capitalization.[17] In 2017, Amazon \n",
    "acquired Whole Foods Market for $13.4 billion, which vastly increased Amazon's presence as a brick-and-mortar \n",
    "retailer.[18] In 2018, Bezos announced that its two-day delivery service, Amazon Prime, had surpassed 100 million \n",
    "subscribers worldwide\n",
    "\"\"\"\n",
    "\n",
    "top_prediction, all_nbest_json = qa_model.predict_qa(query=\"What does Amazon do?\", context=text, n_best_size=10)\n"
   ]
  },
  {
   "cell_type": "markdown",
   "metadata": {},
   "source": [
    "###  \"Best\" Answer"
   ]
  },
  {
   "cell_type": "code",
   "execution_count": 4,
   "metadata": {},
   "outputs": [
    {
     "data": {
      "text/plain": [
       "'sell electronics, software, video games, apparel, furniture, food, toys, and jewelry'"
      ]
     },
     "execution_count": 4,
     "metadata": {},
     "output_type": "execute_result"
    }
   ],
   "source": [
    "top_prediction"
   ]
  },
  {
   "cell_type": "markdown",
   "metadata": {},
   "source": [
    "### Top N Answers"
   ]
  },
  {
   "cell_type": "code",
   "execution_count": 5,
   "metadata": {
    "scrolled": true
   },
   "outputs": [
    {
     "data": {
      "text/plain": [
       "[OrderedDict([('text',\n",
       "               'sell electronics, software, video games, apparel, furniture, food, toys, and jewelry'),\n",
       "              ('probability', 0.5169277010820728),\n",
       "              ('start_logit', 3.6780757904052734),\n",
       "              ('end_logit', 4.121654510498047),\n",
       "              ('start_index', 142),\n",
       "              ('end_index', 152)]),\n",
       " OrderedDict([('text',\n",
       "               'sell electronics, software, video games, apparel, furniture, food, toys, and jewelry.'),\n",
       "              ('probability', 0.16774980773320788),\n",
       "              ('start_logit', 3.6780757904052734),\n",
       "              ('end_logit', 2.996225118637085),\n",
       "              ('start_index', 142),\n",
       "              ('end_index', 152)]),\n",
       " OrderedDict([('text',\n",
       "               'expanded to sell electronics, software, video games, apparel, furniture, food, toys, and jewelry'),\n",
       "              ('probability', 0.1011240941875894),\n",
       "              ('start_logit', 2.0465211868286133),\n",
       "              ('end_logit', 4.121654510498047),\n",
       "              ('start_index', 140),\n",
       "              ('end_index', 152)]),\n",
       " OrderedDict([('text',\n",
       "               'focuses on e-commerce, cloud computing, digital streaming, and artificial intelligence'),\n",
       "              ('probability', 0.07537952347746305),\n",
       "              ('start_logit', 2.599106550216675),\n",
       "              ('end_logit', 3.275256395339966),\n",
       "              ('start_index', 14),\n",
       "              ('end_index', 23)]),\n",
       " OrderedDict([('text',\n",
       "               'expanded to sell electronics, software, video games, apparel, furniture, food, toys, and jewelry.'),\n",
       "              ('probability', 0.03281609269856022),\n",
       "              ('start_logit', 2.0465211868286133),\n",
       "              ('end_logit', 2.996225118637085),\n",
       "              ('start_index', 140),\n",
       "              ('end_index', 152)]),\n",
       " OrderedDict([('text',\n",
       "               'e-commerce, cloud computing, digital streaming, and artificial intelligence'),\n",
       "              ('probability', 0.03272712982493888),\n",
       "              ('start_logit', 1.764775276184082),\n",
       "              ('end_logit', 3.275256395339966),\n",
       "              ('start_index', 16),\n",
       "              ('end_index', 23)]),\n",
       " OrderedDict([('text',\n",
       "               'focuses on e-commerce, cloud computing, digital streaming, and artificial intelligence.'),\n",
       "              ('probability', 0.028940049167599024),\n",
       "              ('start_logit', 2.599106550216675),\n",
       "              ('end_logit', 2.3179471492767334),\n",
       "              ('start_index', 14),\n",
       "              ('end_index', 23)]),\n",
       " OrderedDict([('text',\n",
       "               'online marketplace for books but later expanded to sell electronics, software, video games, apparel, furniture, food, toys, and jewelry'),\n",
       "              ('probability', 0.022227143433984322),\n",
       "              ('start_logit', 0.531486988067627),\n",
       "              ('end_logit', 4.121654510498047),\n",
       "              ('start_index', 134),\n",
       "              ('end_index', 152)]),\n",
       " OrderedDict([('text',\n",
       "               'e-commerce, cloud computing, digital streaming, and artificial intelligence.'),\n",
       "              ('probability', 0.012564748389943042),\n",
       "              ('start_logit', 1.764775276184082),\n",
       "              ('end_logit', 2.3179471492767334),\n",
       "              ('start_index', 16),\n",
       "              ('end_index', 23)]),\n",
       " OrderedDict([('text', 'focuses on e-commerce'),\n",
       "              ('probability', 0.00954290678599502),\n",
       "              ('start_logit', 2.599106550216675),\n",
       "              ('end_logit', 1.2085188627243042),\n",
       "              ('start_index', 14),\n",
       "              ('end_index', 16)]),\n",
       " OrderedDict([('text', ''),\n",
       "              ('probability', 8.032186466782782e-07),\n",
       "              ('start_logit', -4.105720520019531),\n",
       "              ('end_logit', -1.4693357944488525),\n",
       "              ('start_index', 0),\n",
       "              ('end_index', 0)])]"
      ]
     },
     "execution_count": 5,
     "metadata": {},
     "output_type": "execute_result"
    }
   ],
   "source": [
    "all_nbest_json"
   ]
  },
  {
   "cell_type": "markdown",
   "metadata": {},
   "source": [
    "#### Show the highlighted answer of the top 10 answers"
   ]
  },
  {
   "cell_type": "code",
   "execution_count": 6,
   "metadata": {},
   "outputs": [],
   "source": [
    "split_text = text.split()"
   ]
  },
  {
   "cell_type": "code",
   "execution_count": 7,
   "metadata": {},
   "outputs": [
    {
     "data": {
      "text/html": [
       "<text style=color:red>Amazon.com,</text> Inc.[6] (/ˈæməzɒn/), is an American multinational technology company based in Seattle, Washington that <text style=color:red><text style=color:red><text style=color:red>focuses on <text style=color:red><text style=color:red>e-commerce,</text> cloud computing, digital streaming, and artificial intelligence.</text></text></text></text> It is considered one of the Big Four technology companies along with Google, Apple, and Facebook.[7][8][9] Amazon is known for its disruption of well-established industries through technological innovation and mass scale.[10][11][12] It is the world's largest e-commerce marketplace, AI assistant provider, and cloud computing platform[13] as measured by revenue and market capitalization.[14] Amazon is the largest Internet company by revenue in the world.[15] It is the second largest private employer in the United States[16] and one of the world's most valuable companies. Amazon is the second largest technology company by revenue. Amazon was founded by Jeff Bezos on July 5, 1994, in Bellevue, Washington. The company initially started as an <text style=color:red>online marketplace for books but later <text style=color:red><text style=color:red>expanded to <text style=color:red><text style=color:red>sell electronics, software, video games, apparel, furniture, food, toys, and jewelry.</text></text></text></text></text> In 2015, Amazon surpassed Walmart as the most valuable retailer in the United States by market capitalization.[17] In 2017, Amazon acquired Whole Foods Market for $13.4 billion, which vastly increased Amazon's presence as a brick-and-mortar retailer.[18] In 2018, Bezos announced that its two-day delivery service, Amazon Prime, had surpassed 100 million subscribers worldwide"
      ],
      "text/plain": [
       "<IPython.core.display.HTML object>"
      ]
     },
     "execution_count": 7,
     "metadata": {},
     "output_type": "execute_result"
    }
   ],
   "source": [
    "from IPython.display import HTML as html_print\n",
    "\n",
    "for answer in all_nbest_json:\n",
    "    start = answer[\"start_index\"]\n",
    "    end = answer[\"end_index\"]\n",
    "    split_text[start] = \"<text style=color:red>\" + split_text[start]\n",
    "    split_text[end] = split_text[end] + \"</text>\"\n",
    "context_result = \" \".join(split_text)\n",
    "\n",
    "html_print(context_result)"
   ]
  },
  {
   "cell_type": "code",
   "execution_count": null,
   "metadata": {},
   "outputs": [],
   "source": []
  }
 ],
 "metadata": {
  "kernelspec": {
   "display_name": "Python 3",
   "language": "python",
   "name": "python3"
  },
  "language_info": {
   "codemirror_mode": {
    "name": "ipython",
    "version": 3
   },
   "file_extension": ".py",
   "mimetype": "text/x-python",
   "name": "python",
   "nbconvert_exporter": "python",
   "pygments_lexer": "ipython3",
   "version": "3.6.8"
  }
 },
 "nbformat": 4,
 "nbformat_minor": 4
}
